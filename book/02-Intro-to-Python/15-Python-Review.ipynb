{
 "cells": [
  {
   "cell_type": "markdown",
   "metadata": {},
   "source": [
    "## Python Review — Workbook"
   ]
  },
  {
   "cell_type": "markdown",
   "metadata": {},
   "source": [
    "Our goal is to make a function called `keyword_extractor()`, which will accept two arguments — a song and a keyword — and then return the lines from the song that contain a give keyword. We will practice on Phoebe Bridgers' song \"I Know the End.\""
   ]
  },
  {
   "cell_type": "code",
   "execution_count": 1,
   "metadata": {},
   "outputs": [],
   "source": [
    "pb_song = \"\"\"Somewhere in Germany, but I can't place it\n",
    "Man, I hate this part of Texas\n",
    "Close my eyes, fantasize\n",
    "Three clicks, and I'm home\n",
    "When I get back I'll lay around\n",
    "And I'll get up and lay back down\n",
    "Romanticize a quiet life\n",
    "There's no place like my room\n",
    "But you had to go\n",
    "I know, I know, I know\n",
    "Like a wave that crashed and melted on the shore\n",
    "Not even the burnouts are out here anymore\n",
    "And you had to go\n",
    "I know, I know, I know\n",
    "Out in the park, we watch the sunset\n",
    "Talking on a rusty swing set\n",
    "After awhile you went quiet, and I got mean\n",
    "I'm always pushing you away from me\n",
    "But you come back with gravity\n",
    "And when I call, you come home\n",
    "A bird in your teeth\n",
    "So I gotta go\n",
    "I know, I know, I know\n",
    "When the sirens sound, you'll hide under the floor\n",
    "But I'm not gonna go down with my hometown in a tornado\n",
    "I'm gonna chase it\n",
    "I know, I know, I know\n",
    "I gotta go now\n",
    "I know, I know, I know\n",
    "Driving out into the sun\n",
    "Let the ultraviolet cover me up\n",
    "Went looking for a creation myth\n",
    "Ended up with a pair of cracked lips\n",
    "Windows down, scream along\n",
    "To some America first rap, country song\n",
    "A slaughterhouse, an outlet mall\n",
    "Slot machines, fear of God\n",
    "Windows down, heater on\n",
    "Big bolts of lightning hanging low\n",
    "Over the coast, everyone's convinced\n",
    "It's a government drone or an alien spaceship\n",
    "Either way, we're not alone\n",
    "I'll find a new place to be from\n",
    "A haunted house with a picket fence\n",
    "To float around and ghost my friends\n",
    "No, I'm not afraid to disappear\n",
    "The billboard said, 'The end is near'\n",
    "I turned around, there was nothing there\n",
    "Yeah, I guess the end is here\n",
    "The end is here\n",
    "The end is here\n",
    "The end is here\n",
    "The end is here\"\"\""
   ]
  },
  {
   "cell_type": "markdown",
   "metadata": {},
   "source": [
    "## Step 1 — Start Small"
   ]
  },
  {
   "cell_type": "markdown",
   "metadata": {},
   "source": [
    "Before we make the function, let's simply print out the lines from `pb_song` (Phoebe Bridgers' \"I Know the End\") that match the keyword \n",
    "**\"home\"**.\n",
    "\n",
    "## Step 2 — Think About the Steps\n",
    "Take a minute and jot down the steps that we will need to take to complete this task.\n",
    "\n"
   ]
  },
  {
   "cell_type": "markdown",
   "metadata": {},
   "source": [
    "*Sketch out the steps here in regular human English (double-click to type)*\n",
    "\n",
    "we would first split the whole string into seperate lines.\n",
    "It would be easier to put the lines in a list. Let's use str.split and \n",
    "for every \\n which is a new line, we add the string to a place in the list.\n",
    "\n",
    "Once we have the list, we only print the strings that contain \"home\"."
   ]
  },
  {
   "cell_type": "markdown",
   "metadata": {},
   "source": [
    "## Step 3 — Sketch It Out With Code"
   ]
  },
  {
   "cell_type": "markdown",
   "metadata": {},
   "source": [
    "Now use Python code to print out the lines from `pb_song` (Phoebe Bridgers' \"I Know the End\") that match the keyword \n",
    "**\"home\"**."
   ]
  },
  {
   "cell_type": "code",
   "execution_count": 2,
   "metadata": {},
   "outputs": [
    {
     "name": "stdout",
     "output_type": "stream",
     "text": [
      "Three clicks, and I'm home\n",
      "And when I call, you come home\n",
      "But I'm not gonna go down with my hometown in a tornado\n"
     ]
    }
   ],
   "source": [
    "# Our code here \n",
    "lines = pb_song.split('\\n')\n",
    "\n",
    "for s in lines:\n",
    "    if \"home\" in s:\n",
    "        print(s)"
   ]
  },
  {
   "cell_type": "markdown",
   "metadata": {},
   "source": [
    "Now let's make a new list `matching_lines` that contains lines from `song` that match the keyword \"home\"."
   ]
  },
  {
   "cell_type": "code",
   "execution_count": 5,
   "metadata": {},
   "outputs": [],
   "source": [
    "# Our code here \n",
    "lines = pb_song.split('\\n')\n",
    "matching_lines = []\n",
    "for s in lines:\n",
    "    if \"home\" in s:\n",
    "        matching_lines.append(s)\n"
   ]
  },
  {
   "cell_type": "code",
   "execution_count": 6,
   "metadata": {},
   "outputs": [
    {
     "name": "stdout",
     "output_type": "stream",
     "text": [
      "[\"Three clicks, and I'm home\", 'And when I call, you come home', \"But I'm not gonna go down with my hometown in a tornado\"]\n"
     ]
    }
   ],
   "source": [
    "print(matching_lines)"
   ]
  },
  {
   "cell_type": "markdown",
   "metadata": {},
   "source": [
    "## Step 4 — Put It All Together"
   ]
  },
  {
   "cell_type": "code",
   "execution_count": 7,
   "metadata": {},
   "outputs": [],
   "source": [
    "def keyword_extractor(song, keyword):\n",
    "    lines = song.split('\\n')\n",
    "    matching_lines = []\n",
    "    for s in lines:\n",
    "        if keyword in s:\n",
    "            matching_lines.append(s)\n",
    "    return matching_lines"
   ]
  },
  {
   "cell_type": "code",
   "execution_count": 11,
   "metadata": {},
   "outputs": [
    {
     "name": "stdout",
     "output_type": "stream",
     "text": [
      "['Like a wave that crashed and melted on the shore']\n"
     ]
    }
   ],
   "source": [
    "homeLines = keyword_extractor(pb_song, \"wave\")\n",
    "print(homeLines)"
   ]
  }
 ],
 "metadata": {
  "kernelspec": {
   "display_name": "Python 3",
   "language": "python",
   "name": "python3"
  },
  "language_info": {
   "codemirror_mode": {
    "name": "ipython",
    "version": 3
   },
   "file_extension": ".py",
   "mimetype": "text/x-python",
   "name": "python",
   "nbconvert_exporter": "python",
   "pygments_lexer": "ipython3",
   "version": "3.9.12"
  }
 },
 "nbformat": 4,
 "nbformat_minor": 4
}
